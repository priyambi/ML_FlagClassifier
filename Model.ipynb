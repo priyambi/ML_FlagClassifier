from __future__ import print_function, division

import torch
import torch.nn as nn
import torch.optim as optim
from torch.optim import lr_scheduler
import numpy as np
import torchvision
from torchvision import datasets, models, transforms
import matplotlib.pyplot as plt
import time
import os
import copy

plt.ion()   # interactive mode

# Loading data from Drive
# Augmentations and Normalization for training and validation datasets

from google.colab import drive
drive.mount('/content/drive')

# DATA AUGMENTATIONS
data_transforms = {
    'Train': transforms.Compose([                   #Normalization for training
        transforms.RandomResizedCrop(224),
        transforms.RandomHorizontalFlip(),
        transforms.ToTensor(),
        transforms.Normalize([0.485, 0.456, 0.406], [0.229, 0.224, 0.225])
    ]),
    'Val': transforms.Compose([                     #Normalization for validation
        transforms.Resize(256),
        transforms.CenterCrop(224),
        transforms.ToTensor(),
        transforms.Normalize([0.485, 0.456, 0.406], [0.229, 0.224, 0.225])
    ]),
}

# Accessing dataset from Google Drive. Training data in 'train'. Validation data in 'val'
data_dir = '/content/drive/MyDrive/Colab Notebooks/'
image_datasets = {x: datasets.ImageFolder(os.path.join(data_dir, x), data_transforms[x])for x in ['Train', 'Val']}
dataloaders = {x: torch.utils.data.DataLoader(image_datasets[x], batch_size=4, shuffle=True, num_workers=2) for x in ['Train', 'Val']}
dataset_sizes = {x: len(image_datasets[x]) for x in ['Train', 'Val']}
class_names = image_datasets['Train'].classes

device = torch.device('cuda' if torch.cuda.is_available() else 'cpu')  

# Visualization of a batch of training data
# Function for visualizing a grid from a batch of training data.
def imshow(inp, title=None):
    """Imshow for Tensor."""
    inp = inp.numpy().transpose((1, 2, 0))
    mean = np.array([0.485, 0.456, 0.406])
    std = np.array([0.229, 0.224, 0.225])
    inp = std * inp + mean
    inp = np.clip(inp, 0, 1)
    plt.imshow(inp,interpolation='nearest' ,aspect='equal')
    plt.tight_layout()
    if title is not None:
        plt.title(title)
    plt.pause(0.001)  # pause a bit so all plots are updated


# Get a batch of training data for visualizaiton
inputs, classes = next(iter(dataloaders['Train']))

# Make a grid from batch of training data.
out = torchvision.utils.make_grid(inputs)

imshow(out, title=[class_names[x] for x in classes])

# Model training


def train_model(model, criterion, optimizer, scheduler, num_epochs=25):
    since = time.time()

    best_model_wts = copy.deepcopy(model.state_dict())
    best_acc = 0.0

    for epoch in range(num_epochs):
        print('Epoch {}/{}'.format(epoch, num_epochs - 1))
        print('-' * 10)

        # Each epoch has a training and validation phase
        for phase in ['Train', 'Val']:
            if phase == 'Train':
                model.train()  # Set model to training mode
            else:
                model.eval()   # Set model to evaluate mode

            running_loss = 0.0
            running_corrects = 0

            # Iterate over data. Inputs and labels to GPU
            for inputs, labels in dataloaders[phase]:
                inputs = inputs.to(device)
                labels = labels.to(device)

                # zero the parameter gradients
                optimizer.zero_grad()

                # forward propogation
                # track history if only in training phase
                with torch.set_grad_enabled(phase == 'Train'):
                    outputs = model(inputs)
                    _, preds = torch.max(outputs, 1)
                    loss = criterion(outputs, labels)

                    # backward 
                    #optimize only if in training phase
                    if phase == 'Train':
                        loss.backward()
                        optimizer.step()

                # statistics
                running_loss += loss.item() * inputs.size(0)
                running_corrects += torch.sum(preds == labels.data)
            if phase == 'Train':
                scheduler.step()
            #Calculating loss and accuracy at each epoch
            epoch_loss = running_loss / dataset_sizes[phase]            
            epoch_acc = running_corrects.double() / dataset_sizes[phase]   

            print('{} Loss: {:.4f} Acc: {:.4f}'.format(
                phase, epoch_loss, epoch_acc))

            # deep copy the model
            if phase == 'Val' and epoch_acc > best_acc:
                best_acc = epoch_acc
                best_model_wts = copy.deepcopy(model.state_dict())

        print()

    time_elapsed = time.time() - since
    print('Training complete in {:.0f}m {:.0f}s'.format(
        time_elapsed // 60, time_elapsed % 60))
    print('Best val Acc: {:4f}'.format(best_acc))
    #Best Validation accuracy achieved over num_epochs epochs


    # load best model weights
    model.load_state_dict(best_model_wts)
    return model

# Visualization of predictions

#Function for displaying model predictions. Displaying 10 predictions.
def visualize_model(model, num_images=10):
    was_training = model.training
    model.eval()
    images_so_far = 0
    fig = plt.figure(figsize=10)

    with torch.no_grad():
        for i, (inputs, labels) in enumerate(dataloaders['Val']):
            inputs = inputs.to(device)    #inputs to GPU
            labels = labels.to(device)    #labels to GPU

            outputs = model(inputs)
            _, preds = torch.max(outputs, 1)
            
             #Display predicted class
            for j in range(inputs.size()[0]):
                images_so_far += 1
                ax = plt.subplot(num_images//4, 4, images_so_far)
                ax.axis('off')
                ax.set_title('predicted: {}'.format(class_names[preds[j]]))
                imshow(inputs.cpu().data[j])
                
                if images_so_far == num_images:
                    model.train(mode=was_training)
                    return
        model.train(mode=was_training)

# Using ConvNet as fixed feature extractor
# Loading pre-trained model (ResNet)
model_conv = torchvision.models.resnet18(pretrained=True)
for param in model_conv.parameters():
    param.requires_grad = False         

# Parameters of newly constructed modules have requires_grad=True by default
num_ftrs = model_conv.fc.in_features
model_conv.fc = nn.Linear(num_ftrs, 2)    #8 output classes

model_conv = model_conv.to(device)   #model to GPU

criterion = nn.CrossEntropyLoss()    # Cross entropy loss function

# Observe that only parameters of final layer are being optimized
optimizer_conv = optim.SGD(model_conv.fc.parameters(), lr=0.01, momentum=0.7)

# Decay Learning Rate by a factor of 0.1 every 7 epochs
exp_lr_scheduler = lr_scheduler.StepLR(optimizer_conv, step_size=6, gamma=0.1)

Training and Evaluation
This works faster since gradients don't need to be computed for most of the network, in backward. Forward still needs to be calculated.
num_epochs = 15
model_conv = train_model(model_conv, criterion, optimizer_conv, exp_lr_scheduler,num_epochs)

visualize_model(model_conv)
#Displaying 10 model predictions
plt.ioff()
plt.show()
